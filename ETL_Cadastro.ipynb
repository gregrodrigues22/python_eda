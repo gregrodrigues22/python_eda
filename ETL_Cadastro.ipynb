{
  "nbformat": 4,
  "nbformat_minor": 0,
  "metadata": {
    "colab": {
      "provenance": []
    },
    "kernelspec": {
      "name": "python3",
      "display_name": "Python 3"
    },
    "language_info": {
      "name": "python"
    }
  },
  "cells": [
    {
      "cell_type": "markdown",
      "source": [
        "# Set up"
      ],
      "metadata": {
        "id": "TC-stU4CVBYg"
      }
    },
    {
      "cell_type": "code",
      "execution_count": null,
      "metadata": {
        "colab": {
          "base_uri": "https://localhost:8080/"
        },
        "id": "c6EztsdgU4YD",
        "outputId": "c898c648-378a-4992-c4f4-fe08a1fc5570"
      },
      "outputs": [
        {
          "output_type": "stream",
          "name": "stdout",
          "text": [
            "Authenticated\n"
          ]
        }
      ],
      "source": [
        "from google.colab import auth\n",
        "auth.authenticate_user()\n",
        "print('Authenticated')"
      ]
    },
    {
      "cell_type": "code",
      "source": [
        "from google.colab import drive\n",
        "import os\n",
        "drive.mount('/content/drive',force_remount=True)\n",
        "os.chdir(f'/content/drive/MyDrive/Mestrado')"
      ],
      "metadata": {
        "colab": {
          "base_uri": "https://localhost:8080/"
        },
        "id": "39IjQm_kWnDh",
        "outputId": "580d95e8-7205-4ae4-e14a-1da8cfbaf2e1"
      },
      "execution_count": null,
      "outputs": [
        {
          "output_type": "stream",
          "name": "stdout",
          "text": [
            "Mounted at /content/drive\n"
          ]
        }
      ]
    },
    {
      "cell_type": "code",
      "source": [
        "import pandas as pd\n",
        "import numpy as np\n",
        "import glob\n",
        "import zipfile\n",
        "from tqdm import tqdm\n",
        "import datetime"
      ],
      "metadata": {
        "id": "Lri3HgKIW5da"
      },
      "execution_count": null,
      "outputs": []
    },
    {
      "cell_type": "code",
      "source": [
        "%load_ext google.colab.data_table"
      ],
      "metadata": {
        "id": "ZdUiiYX-W68E"
      },
      "execution_count": null,
      "outputs": []
    },
    {
      "cell_type": "code",
      "source": [
        "cadastro = (\n",
        "    pd.read_excel('/content/drive/Shareddrives/BASES BIs Plano de Saude/03. Bases/Claro/Cadastro/2022/2022_10/claro_seguros_unimed_cadastro_2022_2022_10_BENEFICIARIO_SU_3778_2022_10_28_claro__2022-10-28T11_00_00.xlsx',\n",
        "                usecols=['NOME_ASSOCIADO','NUM_CPF','DATA_NASCIMENTO','IND_SEXO','DATA_INCLUSAO','DATA_EXCLUSAO','TIPO_ASSOCIADO','SGL_UF','NOME_CIDADE','NUM_DDD','NUM_TELEFONE','END_EMAIL']))"
      ],
      "metadata": {
        "id": "ABEIIiYhXA62"
      },
      "execution_count": null,
      "outputs": []
    },
    {
      "cell_type": "code",
      "source": [
        "cadastro.head()"
      ],
      "metadata": {
        "colab": {
          "base_uri": "https://localhost:8080/",
          "height": 294
        },
        "id": "MFLmvM-1hNls",
        "outputId": "ab5eb97e-7cc4-4c3f-d883-decf0ce5eaca"
      },
      "execution_count": null,
      "outputs": [
        {
          "output_type": "execute_result",
          "data": {
            "text/plain": [
              "             NOME_ASSOCIADO IND_SEXO TIPO_ASSOCIADO       NUM_CPF  \\\n",
              "0  ALEXANDRE ALVES DA CUNHA        M              T  9.051127e+08   \n",
              "1  ANDERSON CLAITON PEREIRA        M              T  2.694103e+10   \n",
              "2     CARLOS MACIEL TRAJANO        M              T  1.132090e+10   \n",
              "3   CHARLES FREDA RODRIGUES        M              T  9.403768e+10   \n",
              "4      CLARISSA COSTA ALVES        F              D  9.800281e+10   \n",
              "\n",
              "  DATA_NASCIMENTO DATA_INCLUSAO DATA_EXCLUSAO         NOME_CIDADE SGL_UF  \\\n",
              "0      1968-09-16    2021-07-01           NaT          VILA VELHA     ES   \n",
              "1      1978-03-03    2021-07-01           NaT           RIO CLARO     SP   \n",
              "2      1971-12-16    2021-07-01           NaT           ARACATUBA     SP   \n",
              "3      1978-06-28    2021-07-01           NaT  BALNEARIO CAMBORIU     SC   \n",
              "4      1981-07-31    2021-07-01           NaT          PARNAMIRIM     RN   \n",
              "\n",
              "   NUM_DDD NUM_TELEFONE                        END_EMAIL  \n",
              "0      NaN          NaN            adv.cunha01@gmail.com  \n",
              "1     19.0     35271384    anderson.clayton@claro.com.br  \n",
              "2     18.0     33014189               carltraj@gmail.com  \n",
              "3     47.0     32642284   charles.rodrigues@claro.com.br  \n",
              "4     84.0     20206762  andre_nascimento_76@hotmail.com  "
            ],
            "text/html": [
              "\n",
              "  <div id=\"df-61aa84e3-b095-462b-b010-be84873e77bf\">\n",
              "    <div class=\"colab-df-container\">\n",
              "      <div>\n",
              "<style scoped>\n",
              "    .dataframe tbody tr th:only-of-type {\n",
              "        vertical-align: middle;\n",
              "    }\n",
              "\n",
              "    .dataframe tbody tr th {\n",
              "        vertical-align: top;\n",
              "    }\n",
              "\n",
              "    .dataframe thead th {\n",
              "        text-align: right;\n",
              "    }\n",
              "</style>\n",
              "<table border=\"1\" class=\"dataframe\">\n",
              "  <thead>\n",
              "    <tr style=\"text-align: right;\">\n",
              "      <th></th>\n",
              "      <th>NOME_ASSOCIADO</th>\n",
              "      <th>IND_SEXO</th>\n",
              "      <th>TIPO_ASSOCIADO</th>\n",
              "      <th>NUM_CPF</th>\n",
              "      <th>DATA_NASCIMENTO</th>\n",
              "      <th>DATA_INCLUSAO</th>\n",
              "      <th>DATA_EXCLUSAO</th>\n",
              "      <th>NOME_CIDADE</th>\n",
              "      <th>SGL_UF</th>\n",
              "      <th>NUM_DDD</th>\n",
              "      <th>NUM_TELEFONE</th>\n",
              "      <th>END_EMAIL</th>\n",
              "    </tr>\n",
              "  </thead>\n",
              "  <tbody>\n",
              "    <tr>\n",
              "      <th>0</th>\n",
              "      <td>ALEXANDRE ALVES DA CUNHA</td>\n",
              "      <td>M</td>\n",
              "      <td>T</td>\n",
              "      <td>9.051127e+08</td>\n",
              "      <td>1968-09-16</td>\n",
              "      <td>2021-07-01</td>\n",
              "      <td>NaT</td>\n",
              "      <td>VILA VELHA</td>\n",
              "      <td>ES</td>\n",
              "      <td>NaN</td>\n",
              "      <td>NaN</td>\n",
              "      <td>adv.cunha01@gmail.com</td>\n",
              "    </tr>\n",
              "    <tr>\n",
              "      <th>1</th>\n",
              "      <td>ANDERSON CLAITON PEREIRA</td>\n",
              "      <td>M</td>\n",
              "      <td>T</td>\n",
              "      <td>2.694103e+10</td>\n",
              "      <td>1978-03-03</td>\n",
              "      <td>2021-07-01</td>\n",
              "      <td>NaT</td>\n",
              "      <td>RIO CLARO</td>\n",
              "      <td>SP</td>\n",
              "      <td>19.0</td>\n",
              "      <td>35271384</td>\n",
              "      <td>anderson.clayton@claro.com.br</td>\n",
              "    </tr>\n",
              "    <tr>\n",
              "      <th>2</th>\n",
              "      <td>CARLOS MACIEL TRAJANO</td>\n",
              "      <td>M</td>\n",
              "      <td>T</td>\n",
              "      <td>1.132090e+10</td>\n",
              "      <td>1971-12-16</td>\n",
              "      <td>2021-07-01</td>\n",
              "      <td>NaT</td>\n",
              "      <td>ARACATUBA</td>\n",
              "      <td>SP</td>\n",
              "      <td>18.0</td>\n",
              "      <td>33014189</td>\n",
              "      <td>carltraj@gmail.com</td>\n",
              "    </tr>\n",
              "    <tr>\n",
              "      <th>3</th>\n",
              "      <td>CHARLES FREDA RODRIGUES</td>\n",
              "      <td>M</td>\n",
              "      <td>T</td>\n",
              "      <td>9.403768e+10</td>\n",
              "      <td>1978-06-28</td>\n",
              "      <td>2021-07-01</td>\n",
              "      <td>NaT</td>\n",
              "      <td>BALNEARIO CAMBORIU</td>\n",
              "      <td>SC</td>\n",
              "      <td>47.0</td>\n",
              "      <td>32642284</td>\n",
              "      <td>charles.rodrigues@claro.com.br</td>\n",
              "    </tr>\n",
              "    <tr>\n",
              "      <th>4</th>\n",
              "      <td>CLARISSA COSTA ALVES</td>\n",
              "      <td>F</td>\n",
              "      <td>D</td>\n",
              "      <td>9.800281e+10</td>\n",
              "      <td>1981-07-31</td>\n",
              "      <td>2021-07-01</td>\n",
              "      <td>NaT</td>\n",
              "      <td>PARNAMIRIM</td>\n",
              "      <td>RN</td>\n",
              "      <td>84.0</td>\n",
              "      <td>20206762</td>\n",
              "      <td>andre_nascimento_76@hotmail.com</td>\n",
              "    </tr>\n",
              "  </tbody>\n",
              "</table>\n",
              "</div>\n",
              "      <button class=\"colab-df-convert\" onclick=\"convertToInteractive('df-61aa84e3-b095-462b-b010-be84873e77bf')\"\n",
              "              title=\"Convert this dataframe to an interactive table.\"\n",
              "              style=\"display:none;\">\n",
              "        \n",
              "  <svg xmlns=\"http://www.w3.org/2000/svg\" height=\"24px\"viewBox=\"0 0 24 24\"\n",
              "       width=\"24px\">\n",
              "    <path d=\"M0 0h24v24H0V0z\" fill=\"none\"/>\n",
              "    <path d=\"M18.56 5.44l.94 2.06.94-2.06 2.06-.94-2.06-.94-.94-2.06-.94 2.06-2.06.94zm-11 1L8.5 8.5l.94-2.06 2.06-.94-2.06-.94L8.5 2.5l-.94 2.06-2.06.94zm10 10l.94 2.06.94-2.06 2.06-.94-2.06-.94-.94-2.06-.94 2.06-2.06.94z\"/><path d=\"M17.41 7.96l-1.37-1.37c-.4-.4-.92-.59-1.43-.59-.52 0-1.04.2-1.43.59L10.3 9.45l-7.72 7.72c-.78.78-.78 2.05 0 2.83L4 21.41c.39.39.9.59 1.41.59.51 0 1.02-.2 1.41-.59l7.78-7.78 2.81-2.81c.8-.78.8-2.07 0-2.86zM5.41 20L4 18.59l7.72-7.72 1.47 1.35L5.41 20z\"/>\n",
              "  </svg>\n",
              "      </button>\n",
              "      \n",
              "  <style>\n",
              "    .colab-df-container {\n",
              "      display:flex;\n",
              "      flex-wrap:wrap;\n",
              "      gap: 12px;\n",
              "    }\n",
              "\n",
              "    .colab-df-convert {\n",
              "      background-color: #E8F0FE;\n",
              "      border: none;\n",
              "      border-radius: 50%;\n",
              "      cursor: pointer;\n",
              "      display: none;\n",
              "      fill: #1967D2;\n",
              "      height: 32px;\n",
              "      padding: 0 0 0 0;\n",
              "      width: 32px;\n",
              "    }\n",
              "\n",
              "    .colab-df-convert:hover {\n",
              "      background-color: #E2EBFA;\n",
              "      box-shadow: 0px 1px 2px rgba(60, 64, 67, 0.3), 0px 1px 3px 1px rgba(60, 64, 67, 0.15);\n",
              "      fill: #174EA6;\n",
              "    }\n",
              "\n",
              "    [theme=dark] .colab-df-convert {\n",
              "      background-color: #3B4455;\n",
              "      fill: #D2E3FC;\n",
              "    }\n",
              "\n",
              "    [theme=dark] .colab-df-convert:hover {\n",
              "      background-color: #434B5C;\n",
              "      box-shadow: 0px 1px 3px 1px rgba(0, 0, 0, 0.15);\n",
              "      filter: drop-shadow(0px 1px 2px rgba(0, 0, 0, 0.3));\n",
              "      fill: #FFFFFF;\n",
              "    }\n",
              "  </style>\n",
              "\n",
              "      <script>\n",
              "        const buttonEl =\n",
              "          document.querySelector('#df-61aa84e3-b095-462b-b010-be84873e77bf button.colab-df-convert');\n",
              "        buttonEl.style.display =\n",
              "          google.colab.kernel.accessAllowed ? 'block' : 'none';\n",
              "\n",
              "        async function convertToInteractive(key) {\n",
              "          const element = document.querySelector('#df-61aa84e3-b095-462b-b010-be84873e77bf');\n",
              "          const dataTable =\n",
              "            await google.colab.kernel.invokeFunction('convertToInteractive',\n",
              "                                                     [key], {});\n",
              "          if (!dataTable) return;\n",
              "\n",
              "          const docLinkHtml = 'Like what you see? Visit the ' +\n",
              "            '<a target=\"_blank\" href=https://colab.research.google.com/notebooks/data_table.ipynb>data table notebook</a>'\n",
              "            + ' to learn more about interactive tables.';\n",
              "          element.innerHTML = '';\n",
              "          dataTable['output_type'] = 'display_data';\n",
              "          await google.colab.output.renderOutput(dataTable, element);\n",
              "          const docLink = document.createElement('div');\n",
              "          docLink.innerHTML = docLinkHtml;\n",
              "          element.appendChild(docLink);\n",
              "        }\n",
              "      </script>\n",
              "    </div>\n",
              "  </div>\n",
              "  "
            ],
            "application/vnd.google.colaboratory.module+javascript": "\n      import \"https://ssl.gstatic.com/colaboratory/data_table/a8bd4d5e58f96183/data_table.js\";\n\n      window.createDataTable({\n        data: [[{\n            'v': 0,\n            'f': \"0\",\n        },\n\"ALEXANDRE ALVES DA CUNHA\",\n\"M\",\n\"T\",\n{\n            'v': 905112717.0,\n            'f': \"905112717.0\",\n        },\n\"1968-09-16 00:00:00\",\n\"2021-07-01 00:00:00\",\n\"NaT\",\n\"VILA VELHA\",\n\"ES\",\n{\n            'v': NaN,\n            'f': \"NaN\",\n        },\nNaN,\n\"adv.cunha01@gmail.com\"],\n [{\n            'v': 1,\n            'f': \"1\",\n        },\n\"ANDERSON CLAITON PEREIRA\",\n\"M\",\n\"T\",\n{\n            'v': 26941025816.0,\n            'f': \"26941025816.0\",\n        },\n\"1978-03-03 00:00:00\",\n\"2021-07-01 00:00:00\",\n\"NaT\",\n\"RIO CLARO\",\n\"SP\",\n{\n            'v': 19.0,\n            'f': \"19.0\",\n        },\n\"35271384\",\n\"anderson.clayton@claro.com.br\"],\n [{\n            'v': 2,\n            'f': \"2\",\n        },\n\"CARLOS MACIEL TRAJANO\",\n\"M\",\n\"T\",\n{\n            'v': 11320897860.0,\n            'f': \"11320897860.0\",\n        },\n\"1971-12-16 00:00:00\",\n\"2021-07-01 00:00:00\",\n\"NaT\",\n\"ARACATUBA\",\n\"SP\",\n{\n            'v': 18.0,\n            'f': \"18.0\",\n        },\n\"33014189\",\n\"carltraj@gmail.com\"],\n [{\n            'v': 3,\n            'f': \"3\",\n        },\n\"CHARLES FREDA RODRIGUES\",\n\"M\",\n\"T\",\n{\n            'v': 94037680025.0,\n            'f': \"94037680025.0\",\n        },\n\"1978-06-28 00:00:00\",\n\"2021-07-01 00:00:00\",\n\"NaT\",\n\"BALNEARIO CAMBORIU\",\n\"SC\",\n{\n            'v': 47.0,\n            'f': \"47.0\",\n        },\n\"32642284\",\n\"charles.rodrigues@claro.com.br\"],\n [{\n            'v': 4,\n            'f': \"4\",\n        },\n\"CLARISSA COSTA ALVES\",\n\"F\",\n\"D\",\n{\n            'v': 98002805020.0,\n            'f': \"98002805020.0\",\n        },\n\"1981-07-31 00:00:00\",\n\"2021-07-01 00:00:00\",\n\"NaT\",\n\"PARNAMIRIM\",\n\"RN\",\n{\n            'v': 84.0,\n            'f': \"84.0\",\n        },\n\"20206762\",\n\"andre_nascimento_76@hotmail.com\"]],\n        columns: [[\"number\", \"index\"], [\"string\", \"NOME_ASSOCIADO\"], [\"string\", \"IND_SEXO\"], [\"string\", \"TIPO_ASSOCIADO\"], [\"number\", \"NUM_CPF\"], [\"string\", \"DATA_NASCIMENTO\"], [\"string\", \"DATA_INCLUSAO\"], [\"string\", \"DATA_EXCLUSAO\"], [\"string\", \"NOME_CIDADE\"], [\"string\", \"SGL_UF\"], [\"number\", \"NUM_DDD\"], [\"string\", \"NUM_TELEFONE\"], [\"string\", \"END_EMAIL\"]],\n        columnOptions: [{\"width\": \"1px\", \"className\": \"index_column\"}],\n        rowsPerPage: 25,\n        helpUrl: \"https://colab.research.google.com/notebooks/data_table.ipynb\",\n        suppressOutputScrolling: true,\n        minimumWidth: undefined,\n      });\n    "
          },
          "metadata": {},
          "execution_count": 6
        }
      ]
    },
    {
      "cell_type": "markdown",
      "source": [
        "# Explorando base"
      ],
      "metadata": {
        "id": "M3wUVzEfi1c5"
      }
    },
    {
      "cell_type": "code",
      "source": [
        "cadastro.dtypes"
      ],
      "metadata": {
        "colab": {
          "base_uri": "https://localhost:8080/"
        },
        "id": "RB5C__j9dyIX",
        "outputId": "39b8b33a-3cba-4117-90b3-9e01346e9934"
      },
      "execution_count": null,
      "outputs": [
        {
          "output_type": "execute_result",
          "data": {
            "text/plain": [
              "NOME_ASSOCIADO             object\n",
              "IND_SEXO                   object\n",
              "TIPO_ASSOCIADO             object\n",
              "NUM_CPF                   float64\n",
              "DATA_NASCIMENTO    datetime64[ns]\n",
              "DATA_INCLUSAO      datetime64[ns]\n",
              "DATA_EXCLUSAO      datetime64[ns]\n",
              "NOME_CIDADE                object\n",
              "SGL_UF                     object\n",
              "NUM_DDD                   float64\n",
              "NUM_TELEFONE               object\n",
              "END_EMAIL                  object\n",
              "dtype: object"
            ]
          },
          "metadata": {},
          "execution_count": 7
        }
      ]
    },
    {
      "cell_type": "code",
      "source": [
        "cadastro.info()"
      ],
      "metadata": {
        "colab": {
          "base_uri": "https://localhost:8080/"
        },
        "id": "UnoVCln6i4Jk",
        "outputId": "35fbfae9-e1e3-4c29-f0a0-6ae150212378"
      },
      "execution_count": null,
      "outputs": [
        {
          "output_type": "stream",
          "name": "stdout",
          "text": [
            "<class 'pandas.core.frame.DataFrame'>\n",
            "RangeIndex: 39821 entries, 0 to 39820\n",
            "Data columns (total 12 columns):\n",
            " #   Column           Non-Null Count  Dtype         \n",
            "---  ------           --------------  -----         \n",
            " 0   NOME_ASSOCIADO   39821 non-null  object        \n",
            " 1   IND_SEXO         39821 non-null  object        \n",
            " 2   TIPO_ASSOCIADO   39821 non-null  object        \n",
            " 3   NUM_CPF          39168 non-null  float64       \n",
            " 4   DATA_NASCIMENTO  39821 non-null  datetime64[ns]\n",
            " 5   DATA_INCLUSAO    39821 non-null  datetime64[ns]\n",
            " 6   DATA_EXCLUSAO    700 non-null    datetime64[ns]\n",
            " 7   NOME_CIDADE      38111 non-null  object        \n",
            " 8   SGL_UF           38122 non-null  object        \n",
            " 9   NUM_DDD          25976 non-null  float64       \n",
            " 10  NUM_TELEFONE     26031 non-null  object        \n",
            " 11  END_EMAIL        36118 non-null  object        \n",
            "dtypes: datetime64[ns](3), float64(2), object(7)\n",
            "memory usage: 3.6+ MB\n"
          ]
        }
      ]
    },
    {
      "cell_type": "code",
      "source": [
        "cadastro.shape"
      ],
      "metadata": {
        "colab": {
          "base_uri": "https://localhost:8080/"
        },
        "id": "UQ9OdueqjRV6",
        "outputId": "8523f33a-071c-46fe-dc31-5230839777b4"
      },
      "execution_count": null,
      "outputs": [
        {
          "output_type": "execute_result",
          "data": {
            "text/plain": [
              "(39821, 12)"
            ]
          },
          "metadata": {},
          "execution_count": 9
        }
      ]
    },
    {
      "cell_type": "markdown",
      "source": [
        "# Transformação"
      ],
      "metadata": {
        "id": "Qw-2CAWEVDbW"
      }
    },
    {
      "cell_type": "markdown",
      "source": [
        "**Alterando ordem das colunas**"
      ],
      "metadata": {
        "id": "DQ8-bCKjhs_n"
      }
    },
    {
      "cell_type": "code",
      "source": [
        "cadastro = cadastro[['NOME_ASSOCIADO','NUM_CPF','DATA_NASCIMENTO','IND_SEXO','DATA_INCLUSAO','DATA_EXCLUSAO','TIPO_ASSOCIADO','SGL_UF','NOME_CIDADE','NUM_DDD','NUM_TELEFONE','END_EMAIL']]"
      ],
      "metadata": {
        "id": "Eb_Mp4WchvNW"
      },
      "execution_count": null,
      "outputs": []
    },
    {
      "cell_type": "code",
      "source": [
        "cadastro.head(5)"
      ],
      "metadata": {
        "colab": {
          "base_uri": "https://localhost:8080/",
          "height": 294
        },
        "id": "gwQTHNnhh8Ds",
        "outputId": "9bc7c8dd-989f-4618-e8b8-42917c12275e"
      },
      "execution_count": null,
      "outputs": [
        {
          "output_type": "execute_result",
          "data": {
            "text/plain": [
              "             NOME_ASSOCIADO       NUM_CPF DATA_NASCIMENTO IND_SEXO  \\\n",
              "0  ALEXANDRE ALVES DA CUNHA  9.051127e+08      1968-09-16        M   \n",
              "1  ANDERSON CLAITON PEREIRA  2.694103e+10      1978-03-03        M   \n",
              "2     CARLOS MACIEL TRAJANO  1.132090e+10      1971-12-16        M   \n",
              "3   CHARLES FREDA RODRIGUES  9.403768e+10      1978-06-28        M   \n",
              "4      CLARISSA COSTA ALVES  9.800281e+10      1981-07-31        F   \n",
              "\n",
              "  DATA_INCLUSAO DATA_EXCLUSAO TIPO_ASSOCIADO SGL_UF         NOME_CIDADE  \\\n",
              "0    2021-07-01           NaT              T     ES          VILA VELHA   \n",
              "1    2021-07-01           NaT              T     SP           RIO CLARO   \n",
              "2    2021-07-01           NaT              T     SP           ARACATUBA   \n",
              "3    2021-07-01           NaT              T     SC  BALNEARIO CAMBORIU   \n",
              "4    2021-07-01           NaT              D     RN          PARNAMIRIM   \n",
              "\n",
              "   NUM_DDD NUM_TELEFONE                        END_EMAIL  \n",
              "0      NaN          NaN            adv.cunha01@gmail.com  \n",
              "1     19.0     35271384    anderson.clayton@claro.com.br  \n",
              "2     18.0     33014189               carltraj@gmail.com  \n",
              "3     47.0     32642284   charles.rodrigues@claro.com.br  \n",
              "4     84.0     20206762  andre_nascimento_76@hotmail.com  "
            ],
            "text/html": [
              "\n",
              "  <div id=\"df-747aedfa-2d0f-4081-9897-a8ba0e0de1cc\">\n",
              "    <div class=\"colab-df-container\">\n",
              "      <div>\n",
              "<style scoped>\n",
              "    .dataframe tbody tr th:only-of-type {\n",
              "        vertical-align: middle;\n",
              "    }\n",
              "\n",
              "    .dataframe tbody tr th {\n",
              "        vertical-align: top;\n",
              "    }\n",
              "\n",
              "    .dataframe thead th {\n",
              "        text-align: right;\n",
              "    }\n",
              "</style>\n",
              "<table border=\"1\" class=\"dataframe\">\n",
              "  <thead>\n",
              "    <tr style=\"text-align: right;\">\n",
              "      <th></th>\n",
              "      <th>NOME_ASSOCIADO</th>\n",
              "      <th>NUM_CPF</th>\n",
              "      <th>DATA_NASCIMENTO</th>\n",
              "      <th>IND_SEXO</th>\n",
              "      <th>DATA_INCLUSAO</th>\n",
              "      <th>DATA_EXCLUSAO</th>\n",
              "      <th>TIPO_ASSOCIADO</th>\n",
              "      <th>SGL_UF</th>\n",
              "      <th>NOME_CIDADE</th>\n",
              "      <th>NUM_DDD</th>\n",
              "      <th>NUM_TELEFONE</th>\n",
              "      <th>END_EMAIL</th>\n",
              "    </tr>\n",
              "  </thead>\n",
              "  <tbody>\n",
              "    <tr>\n",
              "      <th>0</th>\n",
              "      <td>ALEXANDRE ALVES DA CUNHA</td>\n",
              "      <td>9.051127e+08</td>\n",
              "      <td>1968-09-16</td>\n",
              "      <td>M</td>\n",
              "      <td>2021-07-01</td>\n",
              "      <td>NaT</td>\n",
              "      <td>T</td>\n",
              "      <td>ES</td>\n",
              "      <td>VILA VELHA</td>\n",
              "      <td>NaN</td>\n",
              "      <td>NaN</td>\n",
              "      <td>adv.cunha01@gmail.com</td>\n",
              "    </tr>\n",
              "    <tr>\n",
              "      <th>1</th>\n",
              "      <td>ANDERSON CLAITON PEREIRA</td>\n",
              "      <td>2.694103e+10</td>\n",
              "      <td>1978-03-03</td>\n",
              "      <td>M</td>\n",
              "      <td>2021-07-01</td>\n",
              "      <td>NaT</td>\n",
              "      <td>T</td>\n",
              "      <td>SP</td>\n",
              "      <td>RIO CLARO</td>\n",
              "      <td>19.0</td>\n",
              "      <td>35271384</td>\n",
              "      <td>anderson.clayton@claro.com.br</td>\n",
              "    </tr>\n",
              "    <tr>\n",
              "      <th>2</th>\n",
              "      <td>CARLOS MACIEL TRAJANO</td>\n",
              "      <td>1.132090e+10</td>\n",
              "      <td>1971-12-16</td>\n",
              "      <td>M</td>\n",
              "      <td>2021-07-01</td>\n",
              "      <td>NaT</td>\n",
              "      <td>T</td>\n",
              "      <td>SP</td>\n",
              "      <td>ARACATUBA</td>\n",
              "      <td>18.0</td>\n",
              "      <td>33014189</td>\n",
              "      <td>carltraj@gmail.com</td>\n",
              "    </tr>\n",
              "    <tr>\n",
              "      <th>3</th>\n",
              "      <td>CHARLES FREDA RODRIGUES</td>\n",
              "      <td>9.403768e+10</td>\n",
              "      <td>1978-06-28</td>\n",
              "      <td>M</td>\n",
              "      <td>2021-07-01</td>\n",
              "      <td>NaT</td>\n",
              "      <td>T</td>\n",
              "      <td>SC</td>\n",
              "      <td>BALNEARIO CAMBORIU</td>\n",
              "      <td>47.0</td>\n",
              "      <td>32642284</td>\n",
              "      <td>charles.rodrigues@claro.com.br</td>\n",
              "    </tr>\n",
              "    <tr>\n",
              "      <th>4</th>\n",
              "      <td>CLARISSA COSTA ALVES</td>\n",
              "      <td>9.800281e+10</td>\n",
              "      <td>1981-07-31</td>\n",
              "      <td>F</td>\n",
              "      <td>2021-07-01</td>\n",
              "      <td>NaT</td>\n",
              "      <td>D</td>\n",
              "      <td>RN</td>\n",
              "      <td>PARNAMIRIM</td>\n",
              "      <td>84.0</td>\n",
              "      <td>20206762</td>\n",
              "      <td>andre_nascimento_76@hotmail.com</td>\n",
              "    </tr>\n",
              "  </tbody>\n",
              "</table>\n",
              "</div>\n",
              "      <button class=\"colab-df-convert\" onclick=\"convertToInteractive('df-747aedfa-2d0f-4081-9897-a8ba0e0de1cc')\"\n",
              "              title=\"Convert this dataframe to an interactive table.\"\n",
              "              style=\"display:none;\">\n",
              "        \n",
              "  <svg xmlns=\"http://www.w3.org/2000/svg\" height=\"24px\"viewBox=\"0 0 24 24\"\n",
              "       width=\"24px\">\n",
              "    <path d=\"M0 0h24v24H0V0z\" fill=\"none\"/>\n",
              "    <path d=\"M18.56 5.44l.94 2.06.94-2.06 2.06-.94-2.06-.94-.94-2.06-.94 2.06-2.06.94zm-11 1L8.5 8.5l.94-2.06 2.06-.94-2.06-.94L8.5 2.5l-.94 2.06-2.06.94zm10 10l.94 2.06.94-2.06 2.06-.94-2.06-.94-.94-2.06-.94 2.06-2.06.94z\"/><path d=\"M17.41 7.96l-1.37-1.37c-.4-.4-.92-.59-1.43-.59-.52 0-1.04.2-1.43.59L10.3 9.45l-7.72 7.72c-.78.78-.78 2.05 0 2.83L4 21.41c.39.39.9.59 1.41.59.51 0 1.02-.2 1.41-.59l7.78-7.78 2.81-2.81c.8-.78.8-2.07 0-2.86zM5.41 20L4 18.59l7.72-7.72 1.47 1.35L5.41 20z\"/>\n",
              "  </svg>\n",
              "      </button>\n",
              "      \n",
              "  <style>\n",
              "    .colab-df-container {\n",
              "      display:flex;\n",
              "      flex-wrap:wrap;\n",
              "      gap: 12px;\n",
              "    }\n",
              "\n",
              "    .colab-df-convert {\n",
              "      background-color: #E8F0FE;\n",
              "      border: none;\n",
              "      border-radius: 50%;\n",
              "      cursor: pointer;\n",
              "      display: none;\n",
              "      fill: #1967D2;\n",
              "      height: 32px;\n",
              "      padding: 0 0 0 0;\n",
              "      width: 32px;\n",
              "    }\n",
              "\n",
              "    .colab-df-convert:hover {\n",
              "      background-color: #E2EBFA;\n",
              "      box-shadow: 0px 1px 2px rgba(60, 64, 67, 0.3), 0px 1px 3px 1px rgba(60, 64, 67, 0.15);\n",
              "      fill: #174EA6;\n",
              "    }\n",
              "\n",
              "    [theme=dark] .colab-df-convert {\n",
              "      background-color: #3B4455;\n",
              "      fill: #D2E3FC;\n",
              "    }\n",
              "\n",
              "    [theme=dark] .colab-df-convert:hover {\n",
              "      background-color: #434B5C;\n",
              "      box-shadow: 0px 1px 3px 1px rgba(0, 0, 0, 0.15);\n",
              "      filter: drop-shadow(0px 1px 2px rgba(0, 0, 0, 0.3));\n",
              "      fill: #FFFFFF;\n",
              "    }\n",
              "  </style>\n",
              "\n",
              "      <script>\n",
              "        const buttonEl =\n",
              "          document.querySelector('#df-747aedfa-2d0f-4081-9897-a8ba0e0de1cc button.colab-df-convert');\n",
              "        buttonEl.style.display =\n",
              "          google.colab.kernel.accessAllowed ? 'block' : 'none';\n",
              "\n",
              "        async function convertToInteractive(key) {\n",
              "          const element = document.querySelector('#df-747aedfa-2d0f-4081-9897-a8ba0e0de1cc');\n",
              "          const dataTable =\n",
              "            await google.colab.kernel.invokeFunction('convertToInteractive',\n",
              "                                                     [key], {});\n",
              "          if (!dataTable) return;\n",
              "\n",
              "          const docLinkHtml = 'Like what you see? Visit the ' +\n",
              "            '<a target=\"_blank\" href=https://colab.research.google.com/notebooks/data_table.ipynb>data table notebook</a>'\n",
              "            + ' to learn more about interactive tables.';\n",
              "          element.innerHTML = '';\n",
              "          dataTable['output_type'] = 'display_data';\n",
              "          await google.colab.output.renderOutput(dataTable, element);\n",
              "          const docLink = document.createElement('div');\n",
              "          docLink.innerHTML = docLinkHtml;\n",
              "          element.appendChild(docLink);\n",
              "        }\n",
              "      </script>\n",
              "    </div>\n",
              "  </div>\n",
              "  "
            ],
            "application/vnd.google.colaboratory.module+javascript": "\n      import \"https://ssl.gstatic.com/colaboratory/data_table/a8bd4d5e58f96183/data_table.js\";\n\n      window.createDataTable({\n        data: [[{\n            'v': 0,\n            'f': \"0\",\n        },\n\"ALEXANDRE ALVES DA CUNHA\",\n{\n            'v': 905112717.0,\n            'f': \"905112717.0\",\n        },\n\"1968-09-16 00:00:00\",\n\"M\",\n\"2021-07-01 00:00:00\",\n\"NaT\",\n\"T\",\n\"ES\",\n\"VILA VELHA\",\n{\n            'v': NaN,\n            'f': \"NaN\",\n        },\nNaN,\n\"adv.cunha01@gmail.com\"],\n [{\n            'v': 1,\n            'f': \"1\",\n        },\n\"ANDERSON CLAITON PEREIRA\",\n{\n            'v': 26941025816.0,\n            'f': \"26941025816.0\",\n        },\n\"1978-03-03 00:00:00\",\n\"M\",\n\"2021-07-01 00:00:00\",\n\"NaT\",\n\"T\",\n\"SP\",\n\"RIO CLARO\",\n{\n            'v': 19.0,\n            'f': \"19.0\",\n        },\n\"35271384\",\n\"anderson.clayton@claro.com.br\"],\n [{\n            'v': 2,\n            'f': \"2\",\n        },\n\"CARLOS MACIEL TRAJANO\",\n{\n            'v': 11320897860.0,\n            'f': \"11320897860.0\",\n        },\n\"1971-12-16 00:00:00\",\n\"M\",\n\"2021-07-01 00:00:00\",\n\"NaT\",\n\"T\",\n\"SP\",\n\"ARACATUBA\",\n{\n            'v': 18.0,\n            'f': \"18.0\",\n        },\n\"33014189\",\n\"carltraj@gmail.com\"],\n [{\n            'v': 3,\n            'f': \"3\",\n        },\n\"CHARLES FREDA RODRIGUES\",\n{\n            'v': 94037680025.0,\n            'f': \"94037680025.0\",\n        },\n\"1978-06-28 00:00:00\",\n\"M\",\n\"2021-07-01 00:00:00\",\n\"NaT\",\n\"T\",\n\"SC\",\n\"BALNEARIO CAMBORIU\",\n{\n            'v': 47.0,\n            'f': \"47.0\",\n        },\n\"32642284\",\n\"charles.rodrigues@claro.com.br\"],\n [{\n            'v': 4,\n            'f': \"4\",\n        },\n\"CLARISSA COSTA ALVES\",\n{\n            'v': 98002805020.0,\n            'f': \"98002805020.0\",\n        },\n\"1981-07-31 00:00:00\",\n\"F\",\n\"2021-07-01 00:00:00\",\n\"NaT\",\n\"D\",\n\"RN\",\n\"PARNAMIRIM\",\n{\n            'v': 84.0,\n            'f': \"84.0\",\n        },\n\"20206762\",\n\"andre_nascimento_76@hotmail.com\"]],\n        columns: [[\"number\", \"index\"], [\"string\", \"NOME_ASSOCIADO\"], [\"number\", \"NUM_CPF\"], [\"string\", \"DATA_NASCIMENTO\"], [\"string\", \"IND_SEXO\"], [\"string\", \"DATA_INCLUSAO\"], [\"string\", \"DATA_EXCLUSAO\"], [\"string\", \"TIPO_ASSOCIADO\"], [\"string\", \"SGL_UF\"], [\"string\", \"NOME_CIDADE\"], [\"number\", \"NUM_DDD\"], [\"string\", \"NUM_TELEFONE\"], [\"string\", \"END_EMAIL\"]],\n        columnOptions: [{\"width\": \"1px\", \"className\": \"index_column\"}],\n        rowsPerPage: 25,\n        helpUrl: \"https://colab.research.google.com/notebooks/data_table.ipynb\",\n        suppressOutputScrolling: true,\n        minimumWidth: undefined,\n      });\n    "
          },
          "metadata": {},
          "execution_count": 11
        }
      ]
    },
    {
      "cell_type": "markdown",
      "source": [
        "**Renomeando colunas**"
      ],
      "metadata": {
        "id": "seWQFhkxbRzf"
      }
    },
    {
      "cell_type": "code",
      "source": [
        "cadastro.columns = 'paciente_nome', 'paciente_documento_cpf', 'paciente_nascimento_data', 'paciente_nascimento_sexo', 'paciente_inclusao_data', 'paciente_exclusao_data', 'paciente_titularidade', 'paciente_endereco_estado', 'paciente_endereco_cidade', 'paciente_contato_telefone_ddd','paciente_contato_telefone','paciente_contato_email'"
      ],
      "metadata": {
        "id": "XW8yvRnrbXWq"
      },
      "execution_count": null,
      "outputs": []
    },
    {
      "cell_type": "code",
      "source": [
        "cadastro.head(5)"
      ],
      "metadata": {
        "colab": {
          "base_uri": "https://localhost:8080/",
          "height": 360
        },
        "id": "6zsuo-WhcAuP",
        "outputId": "9c91ff43-a2d3-4ae5-9e9e-5fabff292c3b"
      },
      "execution_count": null,
      "outputs": [
        {
          "output_type": "execute_result",
          "data": {
            "text/plain": [
              "              paciente_nome  paciente_documento_cpf paciente_nascimento_data  \\\n",
              "0  ALEXANDRE ALVES DA CUNHA            9.051127e+08               1968-09-16   \n",
              "1  ANDERSON CLAITON PEREIRA            2.694103e+10               1978-03-03   \n",
              "2     CARLOS MACIEL TRAJANO            1.132090e+10               1971-12-16   \n",
              "3   CHARLES FREDA RODRIGUES            9.403768e+10               1978-06-28   \n",
              "4      CLARISSA COSTA ALVES            9.800281e+10               1981-07-31   \n",
              "\n",
              "  paciente_nascimento_sexo paciente_inclusao_data paciente_exclusao_data  \\\n",
              "0                        M             2021-07-01                    NaT   \n",
              "1                        M             2021-07-01                    NaT   \n",
              "2                        M             2021-07-01                    NaT   \n",
              "3                        M             2021-07-01                    NaT   \n",
              "4                        F             2021-07-01                    NaT   \n",
              "\n",
              "  paciente_titularidade paciente_endereco_estado paciente_endereco_cidade  \\\n",
              "0                     T                       ES               VILA VELHA   \n",
              "1                     T                       SP                RIO CLARO   \n",
              "2                     T                       SP                ARACATUBA   \n",
              "3                     T                       SC       BALNEARIO CAMBORIU   \n",
              "4                     D                       RN               PARNAMIRIM   \n",
              "\n",
              "   paciente_contato_telefone_ddd paciente_contato_telefone  \\\n",
              "0                            NaN                       NaN   \n",
              "1                           19.0                  35271384   \n",
              "2                           18.0                  33014189   \n",
              "3                           47.0                  32642284   \n",
              "4                           84.0                  20206762   \n",
              "\n",
              "            paciente_contato_email  \n",
              "0            adv.cunha01@gmail.com  \n",
              "1    anderson.clayton@claro.com.br  \n",
              "2               carltraj@gmail.com  \n",
              "3   charles.rodrigues@claro.com.br  \n",
              "4  andre_nascimento_76@hotmail.com  "
            ],
            "text/html": [
              "\n",
              "  <div id=\"df-b55bf4d9-b789-4d6d-a08d-d6c97fc51978\">\n",
              "    <div class=\"colab-df-container\">\n",
              "      <div>\n",
              "<style scoped>\n",
              "    .dataframe tbody tr th:only-of-type {\n",
              "        vertical-align: middle;\n",
              "    }\n",
              "\n",
              "    .dataframe tbody tr th {\n",
              "        vertical-align: top;\n",
              "    }\n",
              "\n",
              "    .dataframe thead th {\n",
              "        text-align: right;\n",
              "    }\n",
              "</style>\n",
              "<table border=\"1\" class=\"dataframe\">\n",
              "  <thead>\n",
              "    <tr style=\"text-align: right;\">\n",
              "      <th></th>\n",
              "      <th>paciente_nome</th>\n",
              "      <th>paciente_documento_cpf</th>\n",
              "      <th>paciente_nascimento_data</th>\n",
              "      <th>paciente_nascimento_sexo</th>\n",
              "      <th>paciente_inclusao_data</th>\n",
              "      <th>paciente_exclusao_data</th>\n",
              "      <th>paciente_titularidade</th>\n",
              "      <th>paciente_endereco_estado</th>\n",
              "      <th>paciente_endereco_cidade</th>\n",
              "      <th>paciente_contato_telefone_ddd</th>\n",
              "      <th>paciente_contato_telefone</th>\n",
              "      <th>paciente_contato_email</th>\n",
              "    </tr>\n",
              "  </thead>\n",
              "  <tbody>\n",
              "    <tr>\n",
              "      <th>0</th>\n",
              "      <td>ALEXANDRE ALVES DA CUNHA</td>\n",
              "      <td>9.051127e+08</td>\n",
              "      <td>1968-09-16</td>\n",
              "      <td>M</td>\n",
              "      <td>2021-07-01</td>\n",
              "      <td>NaT</td>\n",
              "      <td>T</td>\n",
              "      <td>ES</td>\n",
              "      <td>VILA VELHA</td>\n",
              "      <td>NaN</td>\n",
              "      <td>NaN</td>\n",
              "      <td>adv.cunha01@gmail.com</td>\n",
              "    </tr>\n",
              "    <tr>\n",
              "      <th>1</th>\n",
              "      <td>ANDERSON CLAITON PEREIRA</td>\n",
              "      <td>2.694103e+10</td>\n",
              "      <td>1978-03-03</td>\n",
              "      <td>M</td>\n",
              "      <td>2021-07-01</td>\n",
              "      <td>NaT</td>\n",
              "      <td>T</td>\n",
              "      <td>SP</td>\n",
              "      <td>RIO CLARO</td>\n",
              "      <td>19.0</td>\n",
              "      <td>35271384</td>\n",
              "      <td>anderson.clayton@claro.com.br</td>\n",
              "    </tr>\n",
              "    <tr>\n",
              "      <th>2</th>\n",
              "      <td>CARLOS MACIEL TRAJANO</td>\n",
              "      <td>1.132090e+10</td>\n",
              "      <td>1971-12-16</td>\n",
              "      <td>M</td>\n",
              "      <td>2021-07-01</td>\n",
              "      <td>NaT</td>\n",
              "      <td>T</td>\n",
              "      <td>SP</td>\n",
              "      <td>ARACATUBA</td>\n",
              "      <td>18.0</td>\n",
              "      <td>33014189</td>\n",
              "      <td>carltraj@gmail.com</td>\n",
              "    </tr>\n",
              "    <tr>\n",
              "      <th>3</th>\n",
              "      <td>CHARLES FREDA RODRIGUES</td>\n",
              "      <td>9.403768e+10</td>\n",
              "      <td>1978-06-28</td>\n",
              "      <td>M</td>\n",
              "      <td>2021-07-01</td>\n",
              "      <td>NaT</td>\n",
              "      <td>T</td>\n",
              "      <td>SC</td>\n",
              "      <td>BALNEARIO CAMBORIU</td>\n",
              "      <td>47.0</td>\n",
              "      <td>32642284</td>\n",
              "      <td>charles.rodrigues@claro.com.br</td>\n",
              "    </tr>\n",
              "    <tr>\n",
              "      <th>4</th>\n",
              "      <td>CLARISSA COSTA ALVES</td>\n",
              "      <td>9.800281e+10</td>\n",
              "      <td>1981-07-31</td>\n",
              "      <td>F</td>\n",
              "      <td>2021-07-01</td>\n",
              "      <td>NaT</td>\n",
              "      <td>D</td>\n",
              "      <td>RN</td>\n",
              "      <td>PARNAMIRIM</td>\n",
              "      <td>84.0</td>\n",
              "      <td>20206762</td>\n",
              "      <td>andre_nascimento_76@hotmail.com</td>\n",
              "    </tr>\n",
              "  </tbody>\n",
              "</table>\n",
              "</div>\n",
              "      <button class=\"colab-df-convert\" onclick=\"convertToInteractive('df-b55bf4d9-b789-4d6d-a08d-d6c97fc51978')\"\n",
              "              title=\"Convert this dataframe to an interactive table.\"\n",
              "              style=\"display:none;\">\n",
              "        \n",
              "  <svg xmlns=\"http://www.w3.org/2000/svg\" height=\"24px\"viewBox=\"0 0 24 24\"\n",
              "       width=\"24px\">\n",
              "    <path d=\"M0 0h24v24H0V0z\" fill=\"none\"/>\n",
              "    <path d=\"M18.56 5.44l.94 2.06.94-2.06 2.06-.94-2.06-.94-.94-2.06-.94 2.06-2.06.94zm-11 1L8.5 8.5l.94-2.06 2.06-.94-2.06-.94L8.5 2.5l-.94 2.06-2.06.94zm10 10l.94 2.06.94-2.06 2.06-.94-2.06-.94-.94-2.06-.94 2.06-2.06.94z\"/><path d=\"M17.41 7.96l-1.37-1.37c-.4-.4-.92-.59-1.43-.59-.52 0-1.04.2-1.43.59L10.3 9.45l-7.72 7.72c-.78.78-.78 2.05 0 2.83L4 21.41c.39.39.9.59 1.41.59.51 0 1.02-.2 1.41-.59l7.78-7.78 2.81-2.81c.8-.78.8-2.07 0-2.86zM5.41 20L4 18.59l7.72-7.72 1.47 1.35L5.41 20z\"/>\n",
              "  </svg>\n",
              "      </button>\n",
              "      \n",
              "  <style>\n",
              "    .colab-df-container {\n",
              "      display:flex;\n",
              "      flex-wrap:wrap;\n",
              "      gap: 12px;\n",
              "    }\n",
              "\n",
              "    .colab-df-convert {\n",
              "      background-color: #E8F0FE;\n",
              "      border: none;\n",
              "      border-radius: 50%;\n",
              "      cursor: pointer;\n",
              "      display: none;\n",
              "      fill: #1967D2;\n",
              "      height: 32px;\n",
              "      padding: 0 0 0 0;\n",
              "      width: 32px;\n",
              "    }\n",
              "\n",
              "    .colab-df-convert:hover {\n",
              "      background-color: #E2EBFA;\n",
              "      box-shadow: 0px 1px 2px rgba(60, 64, 67, 0.3), 0px 1px 3px 1px rgba(60, 64, 67, 0.15);\n",
              "      fill: #174EA6;\n",
              "    }\n",
              "\n",
              "    [theme=dark] .colab-df-convert {\n",
              "      background-color: #3B4455;\n",
              "      fill: #D2E3FC;\n",
              "    }\n",
              "\n",
              "    [theme=dark] .colab-df-convert:hover {\n",
              "      background-color: #434B5C;\n",
              "      box-shadow: 0px 1px 3px 1px rgba(0, 0, 0, 0.15);\n",
              "      filter: drop-shadow(0px 1px 2px rgba(0, 0, 0, 0.3));\n",
              "      fill: #FFFFFF;\n",
              "    }\n",
              "  </style>\n",
              "\n",
              "      <script>\n",
              "        const buttonEl =\n",
              "          document.querySelector('#df-b55bf4d9-b789-4d6d-a08d-d6c97fc51978 button.colab-df-convert');\n",
              "        buttonEl.style.display =\n",
              "          google.colab.kernel.accessAllowed ? 'block' : 'none';\n",
              "\n",
              "        async function convertToInteractive(key) {\n",
              "          const element = document.querySelector('#df-b55bf4d9-b789-4d6d-a08d-d6c97fc51978');\n",
              "          const dataTable =\n",
              "            await google.colab.kernel.invokeFunction('convertToInteractive',\n",
              "                                                     [key], {});\n",
              "          if (!dataTable) return;\n",
              "\n",
              "          const docLinkHtml = 'Like what you see? Visit the ' +\n",
              "            '<a target=\"_blank\" href=https://colab.research.google.com/notebooks/data_table.ipynb>data table notebook</a>'\n",
              "            + ' to learn more about interactive tables.';\n",
              "          element.innerHTML = '';\n",
              "          dataTable['output_type'] = 'display_data';\n",
              "          await google.colab.output.renderOutput(dataTable, element);\n",
              "          const docLink = document.createElement('div');\n",
              "          docLink.innerHTML = docLinkHtml;\n",
              "          element.appendChild(docLink);\n",
              "        }\n",
              "      </script>\n",
              "    </div>\n",
              "  </div>\n",
              "  "
            ],
            "application/vnd.google.colaboratory.module+javascript": "\n      import \"https://ssl.gstatic.com/colaboratory/data_table/a8bd4d5e58f96183/data_table.js\";\n\n      window.createDataTable({\n        data: [[{\n            'v': 0,\n            'f': \"0\",\n        },\n\"ALEXANDRE ALVES DA CUNHA\",\n{\n            'v': 905112717.0,\n            'f': \"905112717.0\",\n        },\n\"1968-09-16 00:00:00\",\n\"M\",\n\"2021-07-01 00:00:00\",\n\"NaT\",\n\"T\",\n\"ES\",\n\"VILA VELHA\",\n{\n            'v': NaN,\n            'f': \"NaN\",\n        },\nNaN,\n\"adv.cunha01@gmail.com\"],\n [{\n            'v': 1,\n            'f': \"1\",\n        },\n\"ANDERSON CLAITON PEREIRA\",\n{\n            'v': 26941025816.0,\n            'f': \"26941025816.0\",\n        },\n\"1978-03-03 00:00:00\",\n\"M\",\n\"2021-07-01 00:00:00\",\n\"NaT\",\n\"T\",\n\"SP\",\n\"RIO CLARO\",\n{\n            'v': 19.0,\n            'f': \"19.0\",\n        },\n\"35271384\",\n\"anderson.clayton@claro.com.br\"],\n [{\n            'v': 2,\n            'f': \"2\",\n        },\n\"CARLOS MACIEL TRAJANO\",\n{\n            'v': 11320897860.0,\n            'f': \"11320897860.0\",\n        },\n\"1971-12-16 00:00:00\",\n\"M\",\n\"2021-07-01 00:00:00\",\n\"NaT\",\n\"T\",\n\"SP\",\n\"ARACATUBA\",\n{\n            'v': 18.0,\n            'f': \"18.0\",\n        },\n\"33014189\",\n\"carltraj@gmail.com\"],\n [{\n            'v': 3,\n            'f': \"3\",\n        },\n\"CHARLES FREDA RODRIGUES\",\n{\n            'v': 94037680025.0,\n            'f': \"94037680025.0\",\n        },\n\"1978-06-28 00:00:00\",\n\"M\",\n\"2021-07-01 00:00:00\",\n\"NaT\",\n\"T\",\n\"SC\",\n\"BALNEARIO CAMBORIU\",\n{\n            'v': 47.0,\n            'f': \"47.0\",\n        },\n\"32642284\",\n\"charles.rodrigues@claro.com.br\"],\n [{\n            'v': 4,\n            'f': \"4\",\n        },\n\"CLARISSA COSTA ALVES\",\n{\n            'v': 98002805020.0,\n            'f': \"98002805020.0\",\n        },\n\"1981-07-31 00:00:00\",\n\"F\",\n\"2021-07-01 00:00:00\",\n\"NaT\",\n\"D\",\n\"RN\",\n\"PARNAMIRIM\",\n{\n            'v': 84.0,\n            'f': \"84.0\",\n        },\n\"20206762\",\n\"andre_nascimento_76@hotmail.com\"]],\n        columns: [[\"number\", \"index\"], [\"string\", \"paciente_nome\"], [\"number\", \"paciente_documento_cpf\"], [\"string\", \"paciente_nascimento_data\"], [\"string\", \"paciente_nascimento_sexo\"], [\"string\", \"paciente_inclusao_data\"], [\"string\", \"paciente_exclusao_data\"], [\"string\", \"paciente_titularidade\"], [\"string\", \"paciente_endereco_estado\"], [\"string\", \"paciente_endereco_cidade\"], [\"number\", \"paciente_contato_telefone_ddd\"], [\"string\", \"paciente_contato_telefone\"], [\"string\", \"paciente_contato_email\"]],\n        columnOptions: [{\"width\": \"1px\", \"className\": \"index_column\"}],\n        rowsPerPage: 25,\n        helpUrl: \"https://colab.research.google.com/notebooks/data_table.ipynb\",\n        suppressOutputScrolling: true,\n        minimumWidth: undefined,\n      });\n    "
          },
          "metadata": {},
          "execution_count": 13
        }
      ]
    },
    {
      "cell_type": "code",
      "source": [
        "cadastro.dtypes"
      ],
      "metadata": {
        "colab": {
          "base_uri": "https://localhost:8080/"
        },
        "id": "0W1T9y3Y1cGe",
        "outputId": "95550679-0a25-47d0-fdfb-6732b557b925"
      },
      "execution_count": null,
      "outputs": [
        {
          "output_type": "execute_result",
          "data": {
            "text/plain": [
              "paciente_nome                            object\n",
              "paciente_documento_cpf                  float64\n",
              "paciente_nascimento_data         datetime64[ns]\n",
              "paciente_nascimento_sexo                 object\n",
              "paciente_inclusao_data           datetime64[ns]\n",
              "paciente_exclusao_data           datetime64[ns]\n",
              "paciente_titularidade                    object\n",
              "paciente_endereco_estado                 object\n",
              "paciente_endereco_cidade                 object\n",
              "paciente_contato_telefone_ddd           float64\n",
              "paciente_contato_telefone                object\n",
              "paciente_contato_email                   object\n",
              "dtype: object"
            ]
          },
          "metadata": {},
          "execution_count": 14
        }
      ]
    },
    {
      "cell_type": "markdown",
      "source": [
        "**Compreendendo valores**"
      ],
      "metadata": {
        "id": "NRZaGTmqhATl"
      }
    },
    {
      "cell_type": "code",
      "source": [
        "cadastro.isnull().sum()"
      ],
      "metadata": {
        "colab": {
          "base_uri": "https://localhost:8080/"
        },
        "id": "2IsmledkoQAf",
        "outputId": "f2be9447-7d8a-43e4-b5bb-c8275c4d9671"
      },
      "execution_count": null,
      "outputs": [
        {
          "output_type": "execute_result",
          "data": {
            "text/plain": [
              "paciente_nome                        0\n",
              "paciente_documento_cpf             653\n",
              "paciente_nascimento_data             0\n",
              "paciente_nascimento_sexo             0\n",
              "paciente_inclusao_data               0\n",
              "paciente_exclusao_data           39121\n",
              "paciente_titularidade                0\n",
              "paciente_endereco_estado          1699\n",
              "paciente_endereco_cidade          1710\n",
              "paciente_contato_telefone_ddd    13845\n",
              "paciente_contato_telefone        13790\n",
              "paciente_contato_email            3703\n",
              "dtype: int64"
            ]
          },
          "metadata": {},
          "execution_count": 15
        }
      ]
    },
    {
      "cell_type": "code",
      "source": [
        "df = cadastro[cadastro['paciente_nome'].isnull()]"
      ],
      "metadata": {
        "id": "9f0LjzAjpV0R"
      },
      "execution_count": null,
      "outputs": []
    },
    {
      "cell_type": "code",
      "source": [
        "df"
      ],
      "metadata": {
        "colab": {
          "base_uri": "https://localhost:8080/",
          "height": 104
        },
        "id": "PuHE6tfNpZ4L",
        "outputId": "e4847d3c-3418-4560-d783-8ff3d5f6a587"
      },
      "execution_count": null,
      "outputs": [
        {
          "output_type": "execute_result",
          "data": {
            "text/plain": [
              "Empty DataFrame\n",
              "Columns: [paciente_nome, paciente_documento_cpf, paciente_nascimento_data, paciente_nascimento_sexo, paciente_inclusao_data, paciente_exclusao_data, paciente_titularidade, paciente_endereco_estado, paciente_endereco_cidade, paciente_contato_telefone_ddd, paciente_contato_telefone, paciente_contato_email]\n",
              "Index: []"
            ],
            "text/html": [
              "\n",
              "  <div id=\"df-1cc56f91-5baa-4325-8767-b6aa56549412\">\n",
              "    <div class=\"colab-df-container\">\n",
              "      <div>\n",
              "<style scoped>\n",
              "    .dataframe tbody tr th:only-of-type {\n",
              "        vertical-align: middle;\n",
              "    }\n",
              "\n",
              "    .dataframe tbody tr th {\n",
              "        vertical-align: top;\n",
              "    }\n",
              "\n",
              "    .dataframe thead th {\n",
              "        text-align: right;\n",
              "    }\n",
              "</style>\n",
              "<table border=\"1\" class=\"dataframe\">\n",
              "  <thead>\n",
              "    <tr style=\"text-align: right;\">\n",
              "      <th></th>\n",
              "      <th>paciente_nome</th>\n",
              "      <th>paciente_documento_cpf</th>\n",
              "      <th>paciente_nascimento_data</th>\n",
              "      <th>paciente_nascimento_sexo</th>\n",
              "      <th>paciente_inclusao_data</th>\n",
              "      <th>paciente_exclusao_data</th>\n",
              "      <th>paciente_titularidade</th>\n",
              "      <th>paciente_endereco_estado</th>\n",
              "      <th>paciente_endereco_cidade</th>\n",
              "      <th>paciente_contato_telefone_ddd</th>\n",
              "      <th>paciente_contato_telefone</th>\n",
              "      <th>paciente_contato_email</th>\n",
              "    </tr>\n",
              "  </thead>\n",
              "  <tbody>\n",
              "  </tbody>\n",
              "</table>\n",
              "</div>\n",
              "      <button class=\"colab-df-convert\" onclick=\"convertToInteractive('df-1cc56f91-5baa-4325-8767-b6aa56549412')\"\n",
              "              title=\"Convert this dataframe to an interactive table.\"\n",
              "              style=\"display:none;\">\n",
              "        \n",
              "  <svg xmlns=\"http://www.w3.org/2000/svg\" height=\"24px\"viewBox=\"0 0 24 24\"\n",
              "       width=\"24px\">\n",
              "    <path d=\"M0 0h24v24H0V0z\" fill=\"none\"/>\n",
              "    <path d=\"M18.56 5.44l.94 2.06.94-2.06 2.06-.94-2.06-.94-.94-2.06-.94 2.06-2.06.94zm-11 1L8.5 8.5l.94-2.06 2.06-.94-2.06-.94L8.5 2.5l-.94 2.06-2.06.94zm10 10l.94 2.06.94-2.06 2.06-.94-2.06-.94-.94-2.06-.94 2.06-2.06.94z\"/><path d=\"M17.41 7.96l-1.37-1.37c-.4-.4-.92-.59-1.43-.59-.52 0-1.04.2-1.43.59L10.3 9.45l-7.72 7.72c-.78.78-.78 2.05 0 2.83L4 21.41c.39.39.9.59 1.41.59.51 0 1.02-.2 1.41-.59l7.78-7.78 2.81-2.81c.8-.78.8-2.07 0-2.86zM5.41 20L4 18.59l7.72-7.72 1.47 1.35L5.41 20z\"/>\n",
              "  </svg>\n",
              "      </button>\n",
              "      \n",
              "  <style>\n",
              "    .colab-df-container {\n",
              "      display:flex;\n",
              "      flex-wrap:wrap;\n",
              "      gap: 12px;\n",
              "    }\n",
              "\n",
              "    .colab-df-convert {\n",
              "      background-color: #E8F0FE;\n",
              "      border: none;\n",
              "      border-radius: 50%;\n",
              "      cursor: pointer;\n",
              "      display: none;\n",
              "      fill: #1967D2;\n",
              "      height: 32px;\n",
              "      padding: 0 0 0 0;\n",
              "      width: 32px;\n",
              "    }\n",
              "\n",
              "    .colab-df-convert:hover {\n",
              "      background-color: #E2EBFA;\n",
              "      box-shadow: 0px 1px 2px rgba(60, 64, 67, 0.3), 0px 1px 3px 1px rgba(60, 64, 67, 0.15);\n",
              "      fill: #174EA6;\n",
              "    }\n",
              "\n",
              "    [theme=dark] .colab-df-convert {\n",
              "      background-color: #3B4455;\n",
              "      fill: #D2E3FC;\n",
              "    }\n",
              "\n",
              "    [theme=dark] .colab-df-convert:hover {\n",
              "      background-color: #434B5C;\n",
              "      box-shadow: 0px 1px 3px 1px rgba(0, 0, 0, 0.15);\n",
              "      filter: drop-shadow(0px 1px 2px rgba(0, 0, 0, 0.3));\n",
              "      fill: #FFFFFF;\n",
              "    }\n",
              "  </style>\n",
              "\n",
              "      <script>\n",
              "        const buttonEl =\n",
              "          document.querySelector('#df-1cc56f91-5baa-4325-8767-b6aa56549412 button.colab-df-convert');\n",
              "        buttonEl.style.display =\n",
              "          google.colab.kernel.accessAllowed ? 'block' : 'none';\n",
              "\n",
              "        async function convertToInteractive(key) {\n",
              "          const element = document.querySelector('#df-1cc56f91-5baa-4325-8767-b6aa56549412');\n",
              "          const dataTable =\n",
              "            await google.colab.kernel.invokeFunction('convertToInteractive',\n",
              "                                                     [key], {});\n",
              "          if (!dataTable) return;\n",
              "\n",
              "          const docLinkHtml = 'Like what you see? Visit the ' +\n",
              "            '<a target=\"_blank\" href=https://colab.research.google.com/notebooks/data_table.ipynb>data table notebook</a>'\n",
              "            + ' to learn more about interactive tables.';\n",
              "          element.innerHTML = '';\n",
              "          dataTable['output_type'] = 'display_data';\n",
              "          await google.colab.output.renderOutput(dataTable, element);\n",
              "          const docLink = document.createElement('div');\n",
              "          docLink.innerHTML = docLinkHtml;\n",
              "          element.appendChild(docLink);\n",
              "        }\n",
              "      </script>\n",
              "    </div>\n",
              "  </div>\n",
              "  "
            ],
            "application/vnd.google.colaboratory.module+javascript": "\n      import \"https://ssl.gstatic.com/colaboratory/data_table/a8bd4d5e58f96183/data_table.js\";\n\n      window.createDataTable({\n        data: [],\n        columns: [[\"number\", \"index\"], [\"number\", \"paciente_nome\"], [\"number\", \"paciente_documento_cpf\"], [\"number\", \"paciente_nascimento_data\"], [\"number\", \"paciente_nascimento_sexo\"], [\"number\", \"paciente_inclusao_data\"], [\"number\", \"paciente_exclusao_data\"], [\"number\", \"paciente_titularidade\"], [\"number\", \"paciente_endereco_estado\"], [\"number\", \"paciente_endereco_cidade\"], [\"number\", \"paciente_contato_telefone_ddd\"], [\"number\", \"paciente_contato_telefone\"], [\"number\", \"paciente_contato_email\"]],\n        columnOptions: [{\"width\": \"1px\", \"className\": \"index_column\"}],\n        rowsPerPage: 25,\n        helpUrl: \"https://colab.research.google.com/notebooks/data_table.ipynb\",\n        suppressOutputScrolling: true,\n        minimumWidth: undefined,\n      });\n    "
          },
          "metadata": {},
          "execution_count": 17
        }
      ]
    },
    {
      "cell_type": "code",
      "source": [
        "cadastro['paciente_nascimento_sexo'].value_counts()"
      ],
      "metadata": {
        "colab": {
          "base_uri": "https://localhost:8080/"
        },
        "id": "pkMg3m3yhGy2",
        "outputId": "14d750e6-b739-4656-c44b-ac919e73b3dc"
      },
      "execution_count": null,
      "outputs": [
        {
          "output_type": "execute_result",
          "data": {
            "text/plain": [
              "F    21429\n",
              "M    18392\n",
              "Name: paciente_nascimento_sexo, dtype: int64"
            ]
          },
          "metadata": {},
          "execution_count": 18
        }
      ]
    },
    {
      "cell_type": "code",
      "source": [
        "cadastro['paciente_titularidade'].value_counts()"
      ],
      "metadata": {
        "colab": {
          "base_uri": "https://localhost:8080/"
        },
        "id": "jj5xAV-6ibcg",
        "outputId": "0db3e718-ef1e-4ffa-9862-80d64986127a"
      },
      "execution_count": null,
      "outputs": [
        {
          "output_type": "execute_result",
          "data": {
            "text/plain": [
              "T    20661\n",
              "D    19126\n",
              "A       34\n",
              "Name: paciente_titularidade, dtype: int64"
            ]
          },
          "metadata": {},
          "execution_count": 19
        }
      ]
    },
    {
      "cell_type": "markdown",
      "source": [
        "**Alterando nome para maísculo negrito**"
      ],
      "metadata": {
        "id": "xc_xD_CX_6F4"
      }
    },
    {
      "cell_type": "code",
      "source": [
        "cadastro['paciente_nome'] = cadastro['paciente_nome'].str.upper()"
      ],
      "metadata": {
        "id": "EK92ojVAb98E"
      },
      "execution_count": null,
      "outputs": []
    },
    {
      "cell_type": "markdown",
      "source": [
        "**Alterando cidade para formato correto**"
      ],
      "metadata": {
        "id": "_PniQ8IoANtB"
      }
    },
    {
      "cell_type": "code",
      "source": [
        "cadastro['paciente_endereco_cidade'] = cadastro['paciente_endereco_cidade'].str.title()"
      ],
      "metadata": {
        "id": "TbjQ3d1V_h_X"
      },
      "execution_count": null,
      "outputs": []
    },
    {
      "cell_type": "markdown",
      "source": [
        "**Alterando sexo para código DHIS**"
      ],
      "metadata": {
        "id": "ST6zG-MB_97f"
      }
    },
    {
      "cell_type": "code",
      "source": [
        "cadastro['paciente_nascimento_sexo'] = np.where(cadastro['paciente_nascimento_sexo'] == 'F', 1, 2)"
      ],
      "metadata": {
        "id": "C6X2HV2so9h5"
      },
      "execution_count": null,
      "outputs": []
    },
    {
      "cell_type": "markdown",
      "source": [
        "**Alterando titularidade para código DHIS**"
      ],
      "metadata": {
        "id": "tOFGaOuFAAe5"
      }
    },
    {
      "cell_type": "code",
      "source": [
        "cadastro['paciente_titularidade'] = np.where(cadastro['paciente_titularidade'] == 'T', 'Titular', 'Dependente')"
      ],
      "metadata": {
        "id": "TVksqa89rLrI"
      },
      "execution_count": null,
      "outputs": []
    },
    {
      "cell_type": "markdown",
      "source": [
        "**Limpando e juntando DDD com telefone**"
      ],
      "metadata": {
        "id": "ZuDMlHljADKZ"
      }
    },
    {
      "cell_type": "code",
      "source": [
        "cadastro['paciente_contato_telefone_ddd'] = cadastro['paciente_contato_telefone_ddd'].fillna(0)"
      ],
      "metadata": {
        "id": "fdZJlrZbwzp_"
      },
      "execution_count": null,
      "outputs": []
    },
    {
      "cell_type": "code",
      "source": [
        "cadastro['paciente_contato_telefone_ddd'] = cadastro['paciente_contato_telefone_ddd'].astype(int)"
      ],
      "metadata": {
        "id": "P8Y5dGCN4-Q_"
      },
      "execution_count": null,
      "outputs": []
    },
    {
      "cell_type": "code",
      "source": [
        "cadastro['paciente_contato_telefone_ddd']  = np.where(cadastro['paciente_contato_telefone_ddd'] == 0, None, cadastro['paciente_contato_telefone_ddd'])"
      ],
      "metadata": {
        "id": "5lxRYAb65i7T"
      },
      "execution_count": null,
      "outputs": []
    },
    {
      "cell_type": "code",
      "source": [
        "cadastro['paciente_contato_telefone_ddd'] = cadastro['paciente_contato_telefone_ddd'].astype(str)"
      ],
      "metadata": {
        "id": "wwgWHzGK6gi6"
      },
      "execution_count": null,
      "outputs": []
    },
    {
      "cell_type": "code",
      "source": [
        "cadastro['paciente_contato_telefone'] = cadastro['paciente_contato_telefone_ddd'] + cadastro['paciente_contato_telefone']"
      ],
      "metadata": {
        "id": "XT0eB5rk6L4f"
      },
      "execution_count": null,
      "outputs": []
    },
    {
      "cell_type": "code",
      "source": [
        "cadastro.drop(['paciente_contato_telefone_ddd'],axis=1,inplace=True)"
      ],
      "metadata": {
        "id": "CaO9CkzT6r6b"
      },
      "execution_count": null,
      "outputs": []
    },
    {
      "cell_type": "markdown",
      "source": [
        "**Colocando datas no formato aceito**"
      ],
      "metadata": {
        "id": "HkP8MolPAHxD"
      }
    },
    {
      "cell_type": "code",
      "source": [
        "cadastro['paciente_nascimento_data'] = cadastro['paciente_nascimento_data'].astype(str)"
      ],
      "metadata": {
        "id": "VHGxcWsd9ELh"
      },
      "execution_count": null,
      "outputs": []
    },
    {
      "cell_type": "code",
      "source": [
        "cadastro['paciente_nascimento_data'] = cadastro['paciente_nascimento_data'].str[:10]"
      ],
      "metadata": {
        "id": "2VC0AiLh9Hdf"
      },
      "execution_count": null,
      "outputs": []
    },
    {
      "cell_type": "code",
      "source": [
        "cadastro['paciente_nascimento_data'] = cadastro['paciente_nascimento_data'].replace(['NaT'], '')"
      ],
      "metadata": {
        "id": "s8N3Iyic-PMJ"
      },
      "execution_count": null,
      "outputs": []
    },
    {
      "cell_type": "code",
      "source": [
        "cadastro['paciente_inclusao_data'] = cadastro['paciente_inclusao_data'].astype(str)"
      ],
      "metadata": {
        "id": "LubhouIa9utK"
      },
      "execution_count": null,
      "outputs": []
    },
    {
      "cell_type": "code",
      "source": [
        "cadastro['paciente_inclusao_data'] = cadastro['paciente_inclusao_data'].str[:10]"
      ],
      "metadata": {
        "id": "TiOcXomi9zA2"
      },
      "execution_count": null,
      "outputs": []
    },
    {
      "cell_type": "code",
      "source": [
        "cadastro['paciente_inclusao_data'] = cadastro['paciente_inclusao_data'].replace(['NaT'], '')"
      ],
      "metadata": {
        "id": "yWPpSsqI-0Z9"
      },
      "execution_count": null,
      "outputs": []
    },
    {
      "cell_type": "code",
      "source": [
        "cadastro['paciente_exclusao_data'] = cadastro['paciente_exclusao_data'].astype(str)"
      ],
      "metadata": {
        "id": "JdHVpb3A_E11"
      },
      "execution_count": null,
      "outputs": []
    },
    {
      "cell_type": "code",
      "source": [
        "cadastro['paciente_exclusao_data'] = cadastro['paciente_exclusao_data'].str[:10]"
      ],
      "metadata": {
        "id": "xEEUrBdw_RDB"
      },
      "execution_count": null,
      "outputs": []
    },
    {
      "cell_type": "code",
      "source": [
        "cadastro['paciente_exclusao_data'] = cadastro['paciente_exclusao_data'].replace(['NaT'], '')"
      ],
      "metadata": {
        "id": "kdsCDqZw_Tyi"
      },
      "execution_count": null,
      "outputs": []
    },
    {
      "cell_type": "markdown",
      "source": [
        "**Corringido CPF**"
      ],
      "metadata": {
        "id": "0NpuFrobASTV"
      }
    },
    {
      "cell_type": "code",
      "source": [
        "cadastro['paciente_documento_cpf'] = cadastro['paciente_documento_cpf'].fillna(0)"
      ],
      "metadata": {
        "id": "Oe7bGOlBAiX5"
      },
      "execution_count": null,
      "outputs": []
    },
    {
      "cell_type": "code",
      "source": [
        "cadastro['paciente_documento_cpf'] = cadastro['paciente_documento_cpf'].astype(int)"
      ],
      "metadata": {
        "id": "CDG-Jk64Anqn"
      },
      "execution_count": null,
      "outputs": []
    },
    {
      "cell_type": "code",
      "source": [
        "cadastro['paciente_documento_cpf']  = np.where(cadastro['paciente_documento_cpf'] == 0, None, cadastro['paciente_documento_cpf'])"
      ],
      "metadata": {
        "id": "_vbeBTPbA1MH"
      },
      "execution_count": null,
      "outputs": []
    },
    {
      "cell_type": "code",
      "source": [
        "cadastro['paciente_documento_cpf'] = cadastro['paciente_documento_cpf'].astype(str)"
      ],
      "metadata": {
        "id": "DHknIoy7A5j-"
      },
      "execution_count": null,
      "outputs": []
    },
    {
      "cell_type": "code",
      "source": [
        "cadastro['t_paciente_documento_cpf'] = cadastro['paciente_documento_cpf'].apply(lambda x: len(x))"
      ],
      "metadata": {
        "id": "hpQ16c7DBQop"
      },
      "execution_count": null,
      "outputs": []
    },
    {
      "cell_type": "code",
      "source": [
        "cadastro['t_paciente_documento_cpf'].value_counts()"
      ],
      "metadata": {
        "colab": {
          "base_uri": "https://localhost:8080/"
        },
        "id": "z7e1mtVpBYGd",
        "outputId": "42f3d4d1-e058-4ab5-a413-07ff25b15da4"
      },
      "execution_count": null,
      "outputs": [
        {
          "output_type": "execute_result",
          "data": {
            "text/plain": [
              "11    26370\n",
              "10    11669\n",
              "9      1030\n",
              "4       653\n",
              "8        91\n",
              "7         7\n",
              "6         1\n",
              "Name: t_paciente_documento_cpf, dtype: int64"
            ]
          },
          "metadata": {},
          "execution_count": 44
        }
      ]
    },
    {
      "cell_type": "code",
      "source": [
        "cadastro['paciente_documento_cpf']  = np.where(cadastro['t_paciente_documento_cpf'] == 10, \"0\" + cadastro['paciente_documento_cpf'],cadastro['paciente_documento_cpf'])\n",
        "cadastro['t_paciente_documento_cpf'] = cadastro['paciente_documento_cpf'].apply(lambda x: len(x))"
      ],
      "metadata": {
        "id": "hmZzjvGcBDaj"
      },
      "execution_count": null,
      "outputs": []
    },
    {
      "cell_type": "code",
      "source": [
        "cadastro['paciente_documento_cpf']  = np.where(cadastro['t_paciente_documento_cpf'] == 9, \"00\" + cadastro['paciente_documento_cpf'],cadastro['paciente_documento_cpf'])\n",
        "cadastro['t_paciente_documento_cpf'] = cadastro['paciente_documento_cpf'].apply(lambda x: len(x))"
      ],
      "metadata": {
        "id": "MCfKfeRwg9t-"
      },
      "execution_count": null,
      "outputs": []
    },
    {
      "cell_type": "code",
      "source": [
        "cadastro['paciente_documento_cpf']  = np.where(cadastro['t_paciente_documento_cpf'] < 9, \"0\", cadastro['paciente_documento_cpf'])\n",
        "cadastro['t_paciente_documento_cpf'] = cadastro['paciente_documento_cpf'].apply(lambda x: len(x))"
      ],
      "metadata": {
        "id": "dIAdHH8thBQx"
      },
      "execution_count": null,
      "outputs": []
    },
    {
      "cell_type": "code",
      "source": [
        "cadastro['t_paciente_documento_cpf'].value_counts()"
      ],
      "metadata": {
        "colab": {
          "base_uri": "https://localhost:8080/"
        },
        "id": "O8k_AbwYiJNM",
        "outputId": "daad8279-bb6e-4fe6-81b9-4845a6426f09"
      },
      "execution_count": null,
      "outputs": [
        {
          "output_type": "execute_result",
          "data": {
            "text/plain": [
              "11    39069\n",
              "1       752\n",
              "Name: t_paciente_documento_cpf, dtype: int64"
            ]
          },
          "metadata": {},
          "execution_count": 48
        }
      ]
    },
    {
      "cell_type": "code",
      "source": [
        "cadastro.dtypes"
      ],
      "metadata": {
        "colab": {
          "base_uri": "https://localhost:8080/"
        },
        "id": "q5htHFZrkIWe",
        "outputId": "d08567e2-31ad-487d-a4ea-a49d97137cdb"
      },
      "execution_count": null,
      "outputs": [
        {
          "output_type": "execute_result",
          "data": {
            "text/plain": [
              "paciente_nome                object\n",
              "paciente_documento_cpf       object\n",
              "paciente_nascimento_data     object\n",
              "paciente_nascimento_sexo      int64\n",
              "paciente_inclusao_data       object\n",
              "paciente_exclusao_data       object\n",
              "paciente_titularidade        object\n",
              "paciente_endereco_estado     object\n",
              "paciente_endereco_cidade     object\n",
              "paciente_contato_telefone    object\n",
              "paciente_contato_email       object\n",
              "t_paciente_documento_cpf      int64\n",
              "dtype: object"
            ]
          },
          "metadata": {},
          "execution_count": 49
        }
      ]
    },
    {
      "cell_type": "markdown",
      "source": [
        "**Retirando CPF nulos**"
      ],
      "metadata": {
        "id": "cc3Ct1t0h7AE"
      }
    },
    {
      "cell_type": "code",
      "source": [
        "cpf_inexistente = cadastro[(cadastro['t_paciente_documento_cpf'] == 1)].index\n",
        "cadastro.drop(cpf_inexistente , inplace=True)"
      ],
      "metadata": {
        "id": "-qLbytRBjEqa"
      },
      "execution_count": null,
      "outputs": []
    },
    {
      "cell_type": "code",
      "source": [
        "cadastro['t_paciente_documento_cpf'].value_counts()"
      ],
      "metadata": {
        "colab": {
          "base_uri": "https://localhost:8080/"
        },
        "id": "5V5o8pX-kVv0",
        "outputId": "1fbde101-e7bc-46fb-eaf7-168a6f26e408"
      },
      "execution_count": null,
      "outputs": [
        {
          "output_type": "execute_result",
          "data": {
            "text/plain": [
              "11    39069\n",
              "Name: t_paciente_documento_cpf, dtype: int64"
            ]
          },
          "metadata": {},
          "execution_count": 51
        }
      ]
    },
    {
      "cell_type": "markdown",
      "source": [
        "**Retirando CPF duplicados**"
      ],
      "metadata": {
        "id": "IzKIdLtEkoLV"
      }
    },
    {
      "cell_type": "code",
      "source": [
        "cadastro['paciente_documento_cpf'].nunique()"
      ],
      "metadata": {
        "colab": {
          "base_uri": "https://localhost:8080/"
        },
        "id": "xAQi1zQiibNu",
        "outputId": "e9dd1dc7-c7b2-4089-ed52-566ccc27c6eb"
      },
      "execution_count": null,
      "outputs": [
        {
          "output_type": "execute_result",
          "data": {
            "text/plain": [
              "39020"
            ]
          },
          "metadata": {},
          "execution_count": 52
        }
      ]
    },
    {
      "cell_type": "code",
      "source": [
        "cadastro.drop_duplicates(subset=['paciente_documento_cpf'], keep='last',inplace=True)"
      ],
      "metadata": {
        "id": "6juJTH1uiznK"
      },
      "execution_count": null,
      "outputs": []
    },
    {
      "cell_type": "code",
      "source": [
        "cadastro['paciente_documento_cpf'].nunique()"
      ],
      "metadata": {
        "colab": {
          "base_uri": "https://localhost:8080/"
        },
        "id": "F-KCxW-7lYYd",
        "outputId": "635a948b-db7b-4f84-f50c-fa6c00e2880a"
      },
      "execution_count": null,
      "outputs": [
        {
          "output_type": "execute_result",
          "data": {
            "text/plain": [
              "39020"
            ]
          },
          "metadata": {},
          "execution_count": 54
        }
      ]
    },
    {
      "cell_type": "markdown",
      "source": [
        "**Mapeio de estado da federação**"
      ],
      "metadata": {
        "id": "LLJk0MK8pxgE"
      }
    },
    {
      "cell_type": "code",
      "source": [
        "cadastro['paciente_endereco_estado'].value_counts()"
      ],
      "metadata": {
        "colab": {
          "base_uri": "https://localhost:8080/"
        },
        "id": "pGIp_cEhrH9B",
        "outputId": "e072009c-8514-4070-8414-137620cd9986"
      },
      "execution_count": null,
      "outputs": [
        {
          "output_type": "execute_result",
          "data": {
            "text/plain": [
              "SP    10719\n",
              "MG     5410\n",
              "RS     3219\n",
              "RJ     3023\n",
              "GO     2639\n",
              "ES     2484\n",
              "PR     1686\n",
              "SC     1429\n",
              "PA      793\n",
              "BA      656\n",
              "PE      653\n",
              "AM      636\n",
              "CE      573\n",
              "PB      473\n",
              "MS      430\n",
              "MT      424\n",
              "AL      351\n",
              "DF      295\n",
              "RO      280\n",
              "SE      234\n",
              "RN      229\n",
              "MA      186\n",
              "PI      173\n",
              "TO      167\n",
              "AC      134\n",
              "AP       42\n",
              "RR       33\n",
              "Name: paciente_endereco_estado, dtype: int64"
            ]
          },
          "metadata": {},
          "execution_count": 55
        }
      ]
    },
    {
      "cell_type": "code",
      "source": [
        "estados = {\"SP\":\"25\", \"MG\":\"13\", \"RS\":\"21\", \"RJ\":\"19\", \"GO\":\"9\", \"ES\":\"8\", \"PR\":\"16\", \"SC\":\"24\", \"PA\":\"14\", \"BA\": \"5\", \"PE\":\"17\", \"AM\":\"4\", \"CE\":\"6\", \"PB\":\"15\", \"MS\":\"12\", \"MT\":\"11\",\n",
        "          \"AL\":\"2\", \"DF\":\"7\", \"RO\":\"23\", \"SE\":\"26\",\"RN\":\"20\", \"MA\":\"10\", \"PI\":\"18\", \"TO\":\"27\", \"AC\":\"1\", \"AP\":\"3\", \"RR\":\"23\"}\n",
        "\n",
        "cadastro['paciente_endereco_estado'] = cadastro['paciente_endereco_estado'].map(estados)"
      ],
      "metadata": {
        "id": "a_weGg4Tp25G"
      },
      "execution_count": null,
      "outputs": []
    },
    {
      "cell_type": "code",
      "source": [
        "cadastro.head(5)"
      ],
      "metadata": {
        "colab": {
          "base_uri": "https://localhost:8080/",
          "height": 360
        },
        "id": "7dUVgnR2xzag",
        "outputId": "45323117-0e59-410d-d956-fa1f2c8739ed"
      },
      "execution_count": null,
      "outputs": [
        {
          "output_type": "execute_result",
          "data": {
            "text/plain": [
              "              paciente_nome paciente_documento_cpf paciente_nascimento_data  \\\n",
              "0  ALEXANDRE ALVES DA CUNHA            00905112717               1968-09-16   \n",
              "1  ANDERSON CLAITON PEREIRA            26941025816               1978-03-03   \n",
              "2     CARLOS MACIEL TRAJANO            11320897860               1971-12-16   \n",
              "3   CHARLES FREDA RODRIGUES            94037680025               1978-06-28   \n",
              "4      CLARISSA COSTA ALVES            98002805020               1981-07-31   \n",
              "\n",
              "   paciente_nascimento_sexo paciente_inclusao_data paciente_exclusao_data  \\\n",
              "0                         2             2021-07-01                          \n",
              "1                         2             2021-07-01                          \n",
              "2                         2             2021-07-01                          \n",
              "3                         2             2021-07-01                          \n",
              "4                         1             2021-07-01                          \n",
              "\n",
              "  paciente_titularidade paciente_endereco_estado paciente_endereco_cidade  \\\n",
              "0               Titular                        8               Vila Velha   \n",
              "1               Titular                       25                Rio Claro   \n",
              "2               Titular                       25                Aracatuba   \n",
              "3               Titular                       24       Balneario Camboriu   \n",
              "4            Dependente                       20               Parnamirim   \n",
              "\n",
              "  paciente_contato_telefone           paciente_contato_email  \\\n",
              "0                       NaN            adv.cunha01@gmail.com   \n",
              "1                1935271384    anderson.clayton@claro.com.br   \n",
              "2                1833014189               carltraj@gmail.com   \n",
              "3                4732642284   charles.rodrigues@claro.com.br   \n",
              "4                8420206762  andre_nascimento_76@hotmail.com   \n",
              "\n",
              "   t_paciente_documento_cpf  \n",
              "0                        11  \n",
              "1                        11  \n",
              "2                        11  \n",
              "3                        11  \n",
              "4                        11  "
            ],
            "text/html": [
              "\n",
              "  <div id=\"df-b5c3bc51-12fb-469f-ac1c-4bc546fac8d0\">\n",
              "    <div class=\"colab-df-container\">\n",
              "      <div>\n",
              "<style scoped>\n",
              "    .dataframe tbody tr th:only-of-type {\n",
              "        vertical-align: middle;\n",
              "    }\n",
              "\n",
              "    .dataframe tbody tr th {\n",
              "        vertical-align: top;\n",
              "    }\n",
              "\n",
              "    .dataframe thead th {\n",
              "        text-align: right;\n",
              "    }\n",
              "</style>\n",
              "<table border=\"1\" class=\"dataframe\">\n",
              "  <thead>\n",
              "    <tr style=\"text-align: right;\">\n",
              "      <th></th>\n",
              "      <th>paciente_nome</th>\n",
              "      <th>paciente_documento_cpf</th>\n",
              "      <th>paciente_nascimento_data</th>\n",
              "      <th>paciente_nascimento_sexo</th>\n",
              "      <th>paciente_inclusao_data</th>\n",
              "      <th>paciente_exclusao_data</th>\n",
              "      <th>paciente_titularidade</th>\n",
              "      <th>paciente_endereco_estado</th>\n",
              "      <th>paciente_endereco_cidade</th>\n",
              "      <th>paciente_contato_telefone</th>\n",
              "      <th>paciente_contato_email</th>\n",
              "      <th>t_paciente_documento_cpf</th>\n",
              "    </tr>\n",
              "  </thead>\n",
              "  <tbody>\n",
              "    <tr>\n",
              "      <th>0</th>\n",
              "      <td>ALEXANDRE ALVES DA CUNHA</td>\n",
              "      <td>00905112717</td>\n",
              "      <td>1968-09-16</td>\n",
              "      <td>2</td>\n",
              "      <td>2021-07-01</td>\n",
              "      <td></td>\n",
              "      <td>Titular</td>\n",
              "      <td>8</td>\n",
              "      <td>Vila Velha</td>\n",
              "      <td>NaN</td>\n",
              "      <td>adv.cunha01@gmail.com</td>\n",
              "      <td>11</td>\n",
              "    </tr>\n",
              "    <tr>\n",
              "      <th>1</th>\n",
              "      <td>ANDERSON CLAITON PEREIRA</td>\n",
              "      <td>26941025816</td>\n",
              "      <td>1978-03-03</td>\n",
              "      <td>2</td>\n",
              "      <td>2021-07-01</td>\n",
              "      <td></td>\n",
              "      <td>Titular</td>\n",
              "      <td>25</td>\n",
              "      <td>Rio Claro</td>\n",
              "      <td>1935271384</td>\n",
              "      <td>anderson.clayton@claro.com.br</td>\n",
              "      <td>11</td>\n",
              "    </tr>\n",
              "    <tr>\n",
              "      <th>2</th>\n",
              "      <td>CARLOS MACIEL TRAJANO</td>\n",
              "      <td>11320897860</td>\n",
              "      <td>1971-12-16</td>\n",
              "      <td>2</td>\n",
              "      <td>2021-07-01</td>\n",
              "      <td></td>\n",
              "      <td>Titular</td>\n",
              "      <td>25</td>\n",
              "      <td>Aracatuba</td>\n",
              "      <td>1833014189</td>\n",
              "      <td>carltraj@gmail.com</td>\n",
              "      <td>11</td>\n",
              "    </tr>\n",
              "    <tr>\n",
              "      <th>3</th>\n",
              "      <td>CHARLES FREDA RODRIGUES</td>\n",
              "      <td>94037680025</td>\n",
              "      <td>1978-06-28</td>\n",
              "      <td>2</td>\n",
              "      <td>2021-07-01</td>\n",
              "      <td></td>\n",
              "      <td>Titular</td>\n",
              "      <td>24</td>\n",
              "      <td>Balneario Camboriu</td>\n",
              "      <td>4732642284</td>\n",
              "      <td>charles.rodrigues@claro.com.br</td>\n",
              "      <td>11</td>\n",
              "    </tr>\n",
              "    <tr>\n",
              "      <th>4</th>\n",
              "      <td>CLARISSA COSTA ALVES</td>\n",
              "      <td>98002805020</td>\n",
              "      <td>1981-07-31</td>\n",
              "      <td>1</td>\n",
              "      <td>2021-07-01</td>\n",
              "      <td></td>\n",
              "      <td>Dependente</td>\n",
              "      <td>20</td>\n",
              "      <td>Parnamirim</td>\n",
              "      <td>8420206762</td>\n",
              "      <td>andre_nascimento_76@hotmail.com</td>\n",
              "      <td>11</td>\n",
              "    </tr>\n",
              "  </tbody>\n",
              "</table>\n",
              "</div>\n",
              "      <button class=\"colab-df-convert\" onclick=\"convertToInteractive('df-b5c3bc51-12fb-469f-ac1c-4bc546fac8d0')\"\n",
              "              title=\"Convert this dataframe to an interactive table.\"\n",
              "              style=\"display:none;\">\n",
              "        \n",
              "  <svg xmlns=\"http://www.w3.org/2000/svg\" height=\"24px\"viewBox=\"0 0 24 24\"\n",
              "       width=\"24px\">\n",
              "    <path d=\"M0 0h24v24H0V0z\" fill=\"none\"/>\n",
              "    <path d=\"M18.56 5.44l.94 2.06.94-2.06 2.06-.94-2.06-.94-.94-2.06-.94 2.06-2.06.94zm-11 1L8.5 8.5l.94-2.06 2.06-.94-2.06-.94L8.5 2.5l-.94 2.06-2.06.94zm10 10l.94 2.06.94-2.06 2.06-.94-2.06-.94-.94-2.06-.94 2.06-2.06.94z\"/><path d=\"M17.41 7.96l-1.37-1.37c-.4-.4-.92-.59-1.43-.59-.52 0-1.04.2-1.43.59L10.3 9.45l-7.72 7.72c-.78.78-.78 2.05 0 2.83L4 21.41c.39.39.9.59 1.41.59.51 0 1.02-.2 1.41-.59l7.78-7.78 2.81-2.81c.8-.78.8-2.07 0-2.86zM5.41 20L4 18.59l7.72-7.72 1.47 1.35L5.41 20z\"/>\n",
              "  </svg>\n",
              "      </button>\n",
              "      \n",
              "  <style>\n",
              "    .colab-df-container {\n",
              "      display:flex;\n",
              "      flex-wrap:wrap;\n",
              "      gap: 12px;\n",
              "    }\n",
              "\n",
              "    .colab-df-convert {\n",
              "      background-color: #E8F0FE;\n",
              "      border: none;\n",
              "      border-radius: 50%;\n",
              "      cursor: pointer;\n",
              "      display: none;\n",
              "      fill: #1967D2;\n",
              "      height: 32px;\n",
              "      padding: 0 0 0 0;\n",
              "      width: 32px;\n",
              "    }\n",
              "\n",
              "    .colab-df-convert:hover {\n",
              "      background-color: #E2EBFA;\n",
              "      box-shadow: 0px 1px 2px rgba(60, 64, 67, 0.3), 0px 1px 3px 1px rgba(60, 64, 67, 0.15);\n",
              "      fill: #174EA6;\n",
              "    }\n",
              "\n",
              "    [theme=dark] .colab-df-convert {\n",
              "      background-color: #3B4455;\n",
              "      fill: #D2E3FC;\n",
              "    }\n",
              "\n",
              "    [theme=dark] .colab-df-convert:hover {\n",
              "      background-color: #434B5C;\n",
              "      box-shadow: 0px 1px 3px 1px rgba(0, 0, 0, 0.15);\n",
              "      filter: drop-shadow(0px 1px 2px rgba(0, 0, 0, 0.3));\n",
              "      fill: #FFFFFF;\n",
              "    }\n",
              "  </style>\n",
              "\n",
              "      <script>\n",
              "        const buttonEl =\n",
              "          document.querySelector('#df-b5c3bc51-12fb-469f-ac1c-4bc546fac8d0 button.colab-df-convert');\n",
              "        buttonEl.style.display =\n",
              "          google.colab.kernel.accessAllowed ? 'block' : 'none';\n",
              "\n",
              "        async function convertToInteractive(key) {\n",
              "          const element = document.querySelector('#df-b5c3bc51-12fb-469f-ac1c-4bc546fac8d0');\n",
              "          const dataTable =\n",
              "            await google.colab.kernel.invokeFunction('convertToInteractive',\n",
              "                                                     [key], {});\n",
              "          if (!dataTable) return;\n",
              "\n",
              "          const docLinkHtml = 'Like what you see? Visit the ' +\n",
              "            '<a target=\"_blank\" href=https://colab.research.google.com/notebooks/data_table.ipynb>data table notebook</a>'\n",
              "            + ' to learn more about interactive tables.';\n",
              "          element.innerHTML = '';\n",
              "          dataTable['output_type'] = 'display_data';\n",
              "          await google.colab.output.renderOutput(dataTable, element);\n",
              "          const docLink = document.createElement('div');\n",
              "          docLink.innerHTML = docLinkHtml;\n",
              "          element.appendChild(docLink);\n",
              "        }\n",
              "      </script>\n",
              "    </div>\n",
              "  </div>\n",
              "  "
            ],
            "application/vnd.google.colaboratory.module+javascript": "\n      import \"https://ssl.gstatic.com/colaboratory/data_table/a8bd4d5e58f96183/data_table.js\";\n\n      window.createDataTable({\n        data: [[{\n            'v': 0,\n            'f': \"0\",\n        },\n\"ALEXANDRE ALVES DA CUNHA\",\n\"00905112717\",\n\"1968-09-16\",\n{\n            'v': 2,\n            'f': \"2\",\n        },\n\"2021-07-01\",\n\"\",\n\"Titular\",\n\"8\",\n\"Vila Velha\",\nNaN,\n\"adv.cunha01@gmail.com\",\n{\n            'v': 11,\n            'f': \"11\",\n        }],\n [{\n            'v': 1,\n            'f': \"1\",\n        },\n\"ANDERSON CLAITON PEREIRA\",\n\"26941025816\",\n\"1978-03-03\",\n{\n            'v': 2,\n            'f': \"2\",\n        },\n\"2021-07-01\",\n\"\",\n\"Titular\",\n\"25\",\n\"Rio Claro\",\n\"1935271384\",\n\"anderson.clayton@claro.com.br\",\n{\n            'v': 11,\n            'f': \"11\",\n        }],\n [{\n            'v': 2,\n            'f': \"2\",\n        },\n\"CARLOS MACIEL TRAJANO\",\n\"11320897860\",\n\"1971-12-16\",\n{\n            'v': 2,\n            'f': \"2\",\n        },\n\"2021-07-01\",\n\"\",\n\"Titular\",\n\"25\",\n\"Aracatuba\",\n\"1833014189\",\n\"carltraj@gmail.com\",\n{\n            'v': 11,\n            'f': \"11\",\n        }],\n [{\n            'v': 3,\n            'f': \"3\",\n        },\n\"CHARLES FREDA RODRIGUES\",\n\"94037680025\",\n\"1978-06-28\",\n{\n            'v': 2,\n            'f': \"2\",\n        },\n\"2021-07-01\",\n\"\",\n\"Titular\",\n\"24\",\n\"Balneario Camboriu\",\n\"4732642284\",\n\"charles.rodrigues@claro.com.br\",\n{\n            'v': 11,\n            'f': \"11\",\n        }],\n [{\n            'v': 4,\n            'f': \"4\",\n        },\n\"CLARISSA COSTA ALVES\",\n\"98002805020\",\n\"1981-07-31\",\n{\n            'v': 1,\n            'f': \"1\",\n        },\n\"2021-07-01\",\n\"\",\n\"Dependente\",\n\"20\",\n\"Parnamirim\",\n\"8420206762\",\n\"andre_nascimento_76@hotmail.com\",\n{\n            'v': 11,\n            'f': \"11\",\n        }]],\n        columns: [[\"number\", \"index\"], [\"string\", \"paciente_nome\"], [\"string\", \"paciente_documento_cpf\"], [\"string\", \"paciente_nascimento_data\"], [\"number\", \"paciente_nascimento_sexo\"], [\"string\", \"paciente_inclusao_data\"], [\"string\", \"paciente_exclusao_data\"], [\"string\", \"paciente_titularidade\"], [\"string\", \"paciente_endereco_estado\"], [\"string\", \"paciente_endereco_cidade\"], [\"string\", \"paciente_contato_telefone\"], [\"string\", \"paciente_contato_email\"], [\"number\", \"t_paciente_documento_cpf\"]],\n        columnOptions: [{\"width\": \"1px\", \"className\": \"index_column\"}],\n        rowsPerPage: 25,\n        helpUrl: \"https://colab.research.google.com/notebooks/data_table.ipynb\",\n        suppressOutputScrolling: true,\n        minimumWidth: undefined,\n      });\n    "
          },
          "metadata": {},
          "execution_count": 57
        }
      ]
    },
    {
      "cell_type": "code",
      "source": [
        "cadastro['paciente_endereco_estado'].value_counts()"
      ],
      "metadata": {
        "colab": {
          "base_uri": "https://localhost:8080/"
        },
        "id": "Hd81nK_uqGBf",
        "outputId": "9242e7d2-d804-4293-d8bf-8c2021b23eed"
      },
      "execution_count": null,
      "outputs": [
        {
          "output_type": "execute_result",
          "data": {
            "text/plain": [
              "25    10719\n",
              "13     5410\n",
              "21     3219\n",
              "19     3023\n",
              "9      2639\n",
              "8      2484\n",
              "16     1686\n",
              "24     1429\n",
              "14      793\n",
              "5       656\n",
              "17      653\n",
              "4       636\n",
              "6       573\n",
              "15      473\n",
              "12      430\n",
              "11      424\n",
              "2       351\n",
              "23      313\n",
              "7       295\n",
              "26      234\n",
              "20      229\n",
              "10      186\n",
              "18      173\n",
              "27      167\n",
              "1       134\n",
              "3        42\n",
              "Name: paciente_endereco_estado, dtype: int64"
            ]
          },
          "metadata": {},
          "execution_count": 58
        }
      ]
    },
    {
      "cell_type": "markdown",
      "source": [
        "# Gravando arquivo"
      ],
      "metadata": {
        "id": "jSX8Fm6RV80h"
      }
    },
    {
      "cell_type": "code",
      "source": [
        "cadastro.to_csv('/content/drive/Shareddrives/BASES BIs Plano de Saude/03. Bases/Claro/Cadastro/2022/2022_10/cadastro_tratado.csv')"
      ],
      "metadata": {
        "id": "4t4FOJXDxN7d"
      },
      "execution_count": null,
      "outputs": []
    }
  ]
}